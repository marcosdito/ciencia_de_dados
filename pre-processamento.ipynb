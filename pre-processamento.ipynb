{
 "cells": [
  {
   "cell_type": "code",
   "execution_count": 1,
   "id": "e3845a78",
   "metadata": {},
   "outputs": [],
   "source": [
    "import pandas as pd\n",
    "import numpy as np"
   ]
  },
  {
   "cell_type": "code",
   "execution_count": 4,
   "id": "259795bc",
   "metadata": {},
   "outputs": [
    {
     "data": {
      "text/html": [
       "<div>\n",
       "<style scoped>\n",
       "    .dataframe tbody tr th:only-of-type {\n",
       "        vertical-align: middle;\n",
       "    }\n",
       "\n",
       "    .dataframe tbody tr th {\n",
       "        vertical-align: top;\n",
       "    }\n",
       "\n",
       "    .dataframe thead th {\n",
       "        text-align: right;\n",
       "    }\n",
       "</style>\n",
       "<table border=\"1\" class=\"dataframe\">\n",
       "  <thead>\n",
       "    <tr style=\"text-align: right;\">\n",
       "      <th></th>\n",
       "      <th>titulo</th>\n",
       "      <th>palavras_chave</th>\n",
       "      <th>nome_autor</th>\n",
       "      <th>nome_orientador</th>\n",
       "      <th>nome_orientador_externo</th>\n",
       "      <th>curso</th>\n",
       "      <th>nivel</th>\n",
       "      <th>tipo_trabalho</th>\n",
       "      <th>ano</th>\n",
       "      <th>data_defesa</th>\n",
       "    </tr>\n",
       "  </thead>\n",
       "  <tbody>\n",
       "    <tr>\n",
       "      <th>0</th>\n",
       "      <td>\"A definir\"</td>\n",
       "      <td>cadeia de custódia, processo penal, prova.</td>\n",
       "      <td>BRUNO LUIS CASTRO DA SILVA</td>\n",
       "      <td>WALTER NUNES DA SILVA JUNIOR</td>\n",
       "      <td>NaN</td>\n",
       "      <td>DIREITO</td>\n",
       "      <td>GRADUAÇÃO</td>\n",
       "      <td>MONOGRAFIA</td>\n",
       "      <td>2022.0</td>\n",
       "      <td>6202/09/02 00:00:00.000</td>\n",
       "    </tr>\n",
       "    <tr>\n",
       "      <th>1</th>\n",
       "      <td>MÚLTIPLA FILIAÇÃO REGISTRAL: ANÁLISE CONSTITUC...</td>\n",
       "      <td>NÃO INFORMADO.</td>\n",
       "      <td>LORENA NOGUEIRA RÊGO</td>\n",
       "      <td>ERICA VERICIA CANUTO DE OLIVEIRA VERAS</td>\n",
       "      <td>NaN</td>\n",
       "      <td>DIREITO</td>\n",
       "      <td>GRADUAÇÃO</td>\n",
       "      <td>MONOGRAFIA</td>\n",
       "      <td>2015.0</td>\n",
       "      <td>5015/11/25 00:00:00.000</td>\n",
       "    </tr>\n",
       "    <tr>\n",
       "      <th>2</th>\n",
       "      <td>O Impacto da Lei de Responsabilidade Fiscal so...</td>\n",
       "      <td>NaN</td>\n",
       "      <td>JULIANA CRISTINA WERNECK</td>\n",
       "      <td>ZIVANILSON TEIXEIRA E SILVA</td>\n",
       "      <td>NaN</td>\n",
       "      <td>CIÊNCIAS ECONÔMICAS</td>\n",
       "      <td>GRADUAÇÃO</td>\n",
       "      <td>MONOGRAFIA</td>\n",
       "      <td>2013.0</td>\n",
       "      <td>3013/12/17 00:00:00.000</td>\n",
       "    </tr>\n",
       "    <tr>\n",
       "      <th>3</th>\n",
       "      <td>Avaliação do Programa Agroamigo dos Território...</td>\n",
       "      <td>NaN</td>\n",
       "      <td>KALBY ANDSON ELOI LEITE</td>\n",
       "      <td>ZIVANILSON TEIXEIRA E SILVA</td>\n",
       "      <td>NaN</td>\n",
       "      <td>CIÊNCIAS ECONÔMICAS</td>\n",
       "      <td>GRADUAÇÃO</td>\n",
       "      <td>MONOGRAFIA</td>\n",
       "      <td>2013.0</td>\n",
       "      <td>3013/12/17 00:00:00.000</td>\n",
       "    </tr>\n",
       "    <tr>\n",
       "      <th>4</th>\n",
       "      <td>A EXIGIBILIDADE DA VACINAÇÃO COMO MEDIDA PROFI...</td>\n",
       "      <td>Vacinação; COVID-19; Obrigatoriedade; Atletas ...</td>\n",
       "      <td>DIEGO ALBERTO FARIAS DANTAS</td>\n",
       "      <td>DIOGO PIGNATARO DE OLIVEIRA</td>\n",
       "      <td>NaN</td>\n",
       "      <td>DIREITO</td>\n",
       "      <td>GRADUAÇÃO</td>\n",
       "      <td>MONOGRAFIA</td>\n",
       "      <td>2022.0</td>\n",
       "      <td>2202/12/21 00:00:00.000</td>\n",
       "    </tr>\n",
       "  </tbody>\n",
       "</table>\n",
       "</div>"
      ],
      "text/plain": [
       "                                              titulo  \\\n",
       "0                                        \"A definir\"   \n",
       "1  MÚLTIPLA FILIAÇÃO REGISTRAL: ANÁLISE CONSTITUC...   \n",
       "2  O Impacto da Lei de Responsabilidade Fiscal so...   \n",
       "3  Avaliação do Programa Agroamigo dos Território...   \n",
       "4  A EXIGIBILIDADE DA VACINAÇÃO COMO MEDIDA PROFI...   \n",
       "\n",
       "                                      palavras_chave  \\\n",
       "0         cadeia de custódia, processo penal, prova.   \n",
       "1                                     NÃO INFORMADO.   \n",
       "2                                                NaN   \n",
       "3                                                NaN   \n",
       "4  Vacinação; COVID-19; Obrigatoriedade; Atletas ...   \n",
       "\n",
       "                    nome_autor                         nome_orientador  \\\n",
       "0   BRUNO LUIS CASTRO DA SILVA            WALTER NUNES DA SILVA JUNIOR   \n",
       "1         LORENA NOGUEIRA RÊGO  ERICA VERICIA CANUTO DE OLIVEIRA VERAS   \n",
       "2     JULIANA CRISTINA WERNECK             ZIVANILSON TEIXEIRA E SILVA   \n",
       "3      KALBY ANDSON ELOI LEITE             ZIVANILSON TEIXEIRA E SILVA   \n",
       "4  DIEGO ALBERTO FARIAS DANTAS             DIOGO PIGNATARO DE OLIVEIRA   \n",
       "\n",
       "  nome_orientador_externo                curso      nivel tipo_trabalho  \\\n",
       "0                     NaN              DIREITO  GRADUAÇÃO    MONOGRAFIA   \n",
       "1                     NaN              DIREITO  GRADUAÇÃO    MONOGRAFIA   \n",
       "2                     NaN  CIÊNCIAS ECONÔMICAS  GRADUAÇÃO    MONOGRAFIA   \n",
       "3                     NaN  CIÊNCIAS ECONÔMICAS  GRADUAÇÃO    MONOGRAFIA   \n",
       "4                     NaN              DIREITO  GRADUAÇÃO    MONOGRAFIA   \n",
       "\n",
       "      ano              data_defesa  \n",
       "0  2022.0  6202/09/02 00:00:00.000  \n",
       "1  2015.0  5015/11/25 00:00:00.000  \n",
       "2  2013.0  3013/12/17 00:00:00.000  \n",
       "3  2013.0  3013/12/17 00:00:00.000  \n",
       "4  2022.0  2202/12/21 00:00:00.000  "
      ]
     },
     "execution_count": 4,
     "metadata": {},
     "output_type": "execute_result"
    }
   ],
   "source": [
    "df = pd.read_csv(\"tccs.csv\", sep=\";\")\n",
    "df.head()"
   ]
  },
  {
   "cell_type": "code",
   "execution_count": 6,
   "id": "fb9d8e26",
   "metadata": {},
   "outputs": [
    {
     "name": "stdout",
     "output_type": "stream",
     "text": [
      "<class 'pandas.core.frame.DataFrame'>\n",
      "RangeIndex: 86827 entries, 0 to 86826\n",
      "Data columns (total 10 columns):\n",
      " #   Column                   Non-Null Count  Dtype  \n",
      "---  ------                   --------------  -----  \n",
      " 0   titulo                   84982 non-null  object \n",
      " 1   palavras_chave           40301 non-null  object \n",
      " 2   nome_autor               86827 non-null  object \n",
      " 3   nome_orientador          79189 non-null  object \n",
      " 4   nome_orientador_externo  7630 non-null   object \n",
      " 5   curso                    86827 non-null  object \n",
      " 6   nivel                    86827 non-null  object \n",
      " 7   tipo_trabalho            67134 non-null  object \n",
      " 8   ano                      86827 non-null  float64\n",
      " 9   data_defesa              86827 non-null  object \n",
      "dtypes: float64(1), object(9)\n",
      "memory usage: 6.6+ MB\n"
     ]
    }
   ],
   "source": [
    "df.info()"
   ]
  },
  {
   "cell_type": "code",
   "execution_count": null,
   "id": "f4a26a9b",
   "metadata": {},
   "outputs": [],
   "source": []
  },
  {
   "cell_type": "code",
   "execution_count": 9,
   "id": "a55dd6d6",
   "metadata": {},
   "outputs": [],
   "source": [
    "df = df.dropna(subset=['titulo'])  # remove valores nulos\n",
    "df = df[df['titulo'].str.lower().str.strip() != '\"a definir\"']  # remove \"a definir\""
   ]
  },
  {
   "cell_type": "code",
   "execution_count": null,
   "id": "873d0614",
   "metadata": {},
   "outputs": [
    {
     "name": "stdout",
     "output_type": "stream",
     "text": [
      "<class 'pandas.core.frame.DataFrame'>\n",
      "Index: 84969 entries, 1 to 86826\n",
      "Data columns (total 10 columns):\n",
      " #   Column                   Non-Null Count  Dtype  \n",
      "---  ------                   --------------  -----  \n",
      " 0   titulo                   84969 non-null  object \n",
      " 1   palavras_chave           40294 non-null  object \n",
      " 2   nome_autor               84969 non-null  object \n",
      " 3   nome_orientador          77331 non-null  object \n",
      " 4   nome_orientador_externo  7630 non-null   object \n",
      " 5   curso                    84969 non-null  object \n",
      " 6   nivel                    84969 non-null  object \n",
      " 7   tipo_trabalho            67121 non-null  object \n",
      " 8   ano                      84969 non-null  float64\n",
      " 9   data_defesa              84969 non-null  object \n",
      "dtypes: float64(1), object(9)\n",
      "memory usage: 7.1+ MB\n"
     ]
    }
   ],
   "source": [
    "#df.head()\n",
    "df.info()"
   ]
  }
 ],
 "metadata": {
  "kernelspec": {
   "display_name": "Python ciencia_de_dados (venv)",
   "language": "python",
   "name": "venv"
  },
  "language_info": {
   "codemirror_mode": {
    "name": "ipython",
    "version": 3
   },
   "file_extension": ".py",
   "mimetype": "text/x-python",
   "name": "python",
   "nbconvert_exporter": "python",
   "pygments_lexer": "ipython3",
   "version": "3.12.3"
  }
 },
 "nbformat": 4,
 "nbformat_minor": 5
}
