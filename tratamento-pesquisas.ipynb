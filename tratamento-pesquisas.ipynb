{
 "cells": [
  {
   "cell_type": "markdown",
   "id": "bfcae7fc",
   "metadata": {},
   "source": [
    "# Importações"
   ]
  },
  {
   "cell_type": "code",
   "execution_count": 2,
   "id": "b55f7007",
   "metadata": {},
   "outputs": [],
   "source": [
    "import pandas as pd\n",
    "import numpy as np"
   ]
  },
  {
   "cell_type": "markdown",
   "id": "823b35fa",
   "metadata": {},
   "source": [
    "# Inicialização dataset"
   ]
  },
  {
   "cell_type": "code",
   "execution_count": 24,
   "id": "fdcda55b",
   "metadata": {},
   "outputs": [
    {
     "name": "stdout",
     "output_type": "stream",
     "text": [
      "<class 'pandas.core.frame.DataFrame'>\n",
      "RangeIndex: 21382 entries, 0 to 21381\n",
      "Data columns (total 21 columns):\n",
      " #   Column                                 Non-Null Count  Dtype  \n",
      "---  ------                                 --------------  -----  \n",
      " 0   id_projeto_pesquisa                    21382 non-null  int64  \n",
      " 1   codigo_projeto                         21382 non-null  object \n",
      " 2   titulo                                 21382 non-null  object \n",
      " 3   palavras_chave                         21130 non-null  object \n",
      " 4   id_projeto                             21382 non-null  int64  \n",
      " 5   ano                                    21382 non-null  int64  \n",
      " 6   data_inicio                            21351 non-null  object \n",
      " 7   data_fim                               21122 non-null  object \n",
      " 8   situacao                               21382 non-null  object \n",
      " 9   tipo_projeto                           21382 non-null  object \n",
      " 10  categoria_projeto                      21382 non-null  object \n",
      " 11  id_unidade                             21382 non-null  int64  \n",
      " 12  unidade                                21382 non-null  object \n",
      " 13  id_coordenador                         69 non-null     float64\n",
      " 14  coordenador                            69 non-null     object \n",
      " 15  edital                                 8217 non-null   object \n",
      " 16  id_grupo_pesquisa                      17636 non-null  float64\n",
      " 17  grupo_pesquisa                         17597 non-null  object \n",
      " 18  linha_pesquisa                         20721 non-null  object \n",
      " 19  area_conhecimento_cnpq                 20971 non-null  object \n",
      " 20  objetivos_desenvolvimento_sustentavel  499 non-null    object \n",
      "dtypes: float64(2), int64(4), object(15)\n",
      "memory usage: 3.4+ MB\n"
     ]
    }
   ],
   "source": [
    "df = pd.read_csv(\"projetos-de-pesquisa.csv\", sep=\";\")\n",
    "df.info()"
   ]
  },
  {
   "cell_type": "markdown",
   "id": "74195c55",
   "metadata": {},
   "source": [
    "# Consultas iniciais"
   ]
  },
  {
   "cell_type": "code",
   "execution_count": 8,
   "id": "ec9dcee0",
   "metadata": {},
   "outputs": [
    {
     "name": "stdout",
     "output_type": "stream",
     "text": [
      "Quantidade de nulos: \n",
      "id_projeto_pesquisa                          0\n",
      "codigo_projeto                               0\n",
      "titulo                                       0\n",
      "palavras_chave                             252\n",
      "id_projeto                                   0\n",
      "ano                                          0\n",
      "data_inicio                                 31\n",
      "data_fim                                   260\n",
      "situacao                                     0\n",
      "tipo_projeto                                 0\n",
      "categoria_projeto                            0\n",
      "id_unidade                                   0\n",
      "unidade                                      0\n",
      "id_coordenador                           21313\n",
      "coordenador                              21313\n",
      "edital                                   13165\n",
      "id_grupo_pesquisa                         3746\n",
      "grupo_pesquisa                            3785\n",
      "linha_pesquisa                             661\n",
      "area_conhecimento_cnpq                     411\n",
      "objetivos_desenvolvimento_sustentavel    20883\n",
      "dtype: int64\n",
      "\n",
      " ========== \n",
      " \n",
      "Porcentagem de nulos: \n",
      "id_projeto_pesquisa                       0.000000\n",
      "codigo_projeto                            0.000000\n",
      "titulo                                    0.000000\n",
      "palavras_chave                            1.178561\n",
      "id_projeto                                0.000000\n",
      "ano                                       0.000000\n",
      "data_inicio                               0.144982\n",
      "data_fim                                  1.215976\n",
      "situacao                                  0.000000\n",
      "tipo_projeto                              0.000000\n",
      "categoria_projeto                         0.000000\n",
      "id_unidade                                0.000000\n",
      "unidade                                   0.000000\n",
      "id_coordenador                           99.677299\n",
      "coordenador                              99.677299\n",
      "edital                                   61.570480\n",
      "id_grupo_pesquisa                        17.519409\n",
      "grupo_pesquisa                           17.701805\n",
      "linha_pesquisa                            3.091385\n",
      "area_conhecimento_cnpq                    1.922178\n",
      "objetivos_desenvolvimento_sustentavel    97.666261\n",
      "dtype: float64\n"
     ]
    }
   ],
   "source": [
    "print(f\"Quantidade de nulos: \\n{df.isnull().sum()}\")\n",
    "print(\"\\n ========== \\n \")\n",
    "print(f\"Porcentagem de nulos: \\n{df.isnull().mean() * 100}\")"
   ]
  },
  {
   "cell_type": "markdown",
   "id": "f0235926",
   "metadata": {},
   "source": [
    "Vendo quais palavras chaves são iguais entre as linhas"
   ]
  },
  {
   "cell_type": "code",
   "execution_count": 7,
   "id": "e0be3701",
   "metadata": {},
   "outputs": [
    {
     "name": "stdout",
     "output_type": "stream",
     "text": [
      "palavras_chave\n",
      ";;                                                                    202\n",
      "lectinas;defesa;heparina                                               10\n",
      "x;x;x                                                                   9\n",
      "a;a;a                                                                   9\n",
      "Dengue, Febre Amarela, Aedes aegypti, Aedes albopictus, Culicidae       8\n",
      "                                                                     ... \n",
      "Hemoglobina S;Recém-nascidos;Anemia falciforme                          2\n",
      "Hemoglobina S;Traço falciforme;Doadores de sangue                       2\n",
      "Formacão de Conceitos;Currículo;Ensino-aprendizagem                     2\n",
      "equilíbrio de fases;processos de separação;modelagem termodinâmica      2\n",
      "Psicose, diagnóstico, esquizofrenia, transtorno bipolar, grafo          2\n",
      "Name: count, Length: 4241, dtype: int64\n"
     ]
    }
   ],
   "source": [
    "contagem = df['palavras_chave'].value_counts()\n",
    "palavras_chave_repetidos = contagem[contagem > 1]\n",
    "\n",
    "print(f\"{palavras_chave_repetidos}\")"
   ]
  },
  {
   "cell_type": "code",
   "execution_count": 25,
   "id": "94e83cb2",
   "metadata": {},
   "outputs": [
    {
     "name": "stdout",
     "output_type": "stream",
     "text": [
      "0    2019/03/01 00:00:00.000\n",
      "1    2019/02/18 00:00:00.000\n",
      "2    2019/02/25 00:00:00.000\n",
      "3    2019/02/04 00:00:00.000\n",
      "4    2019/06/01 00:00:00.000\n",
      "Name: data_inicio, dtype: object\n",
      "\n",
      "========\n",
      "\n",
      "0    2023/03/01 00:00:00.000\n",
      "1    2021/02/19 00:00:00.000\n",
      "2    2021/02/25 00:00:00.000\n",
      "3    2021/02/04 00:00:00.000\n",
      "4    2020/05/31 00:00:00.000\n",
      "Name: data_fim, dtype: object\n"
     ]
    }
   ],
   "source": [
    "print(df['data_inicio'].head(5))\n",
    "print(\"\\n========\\n\")\n",
    "print(df['data_fim'].head(5))"
   ]
  },
  {
   "cell_type": "code",
   "execution_count": 28,
   "id": "fadcf05e",
   "metadata": {},
   "outputs": [],
   "source": [
    "data_nulos_antes = (df['data_inicio'].isna().sum(), df['data_fim'].isna().sum())\n",
    "\n",
    "df['data_inicio'] = pd.to_datetime(df['data_inicio'], errors='coerce')\n",
    "df['data_fim'] = pd.to_datetime(df['data_fim'], errors='coerce')\n",
    "\n",
    "data_nulos_depois = (df['data_inicio'].isna().sum(), df['data_fim'].isna().sum())\n"
   ]
  },
  {
   "cell_type": "code",
   "execution_count": 29,
   "id": "f36fca93",
   "metadata": {},
   "outputs": [
    {
     "name": "stdout",
     "output_type": "stream",
     "text": [
      "0   2019-03-01\n",
      "1   2019-02-18\n",
      "2   2019-02-25\n",
      "3   2019-02-04\n",
      "4   2019-06-01\n",
      "Name: data_inicio, dtype: datetime64[ns]\n",
      "\n",
      "========\n",
      "\n",
      "0   2023-03-01\n",
      "1   2021-02-19\n",
      "2   2021-02-25\n",
      "3   2021-02-04\n",
      "4   2020-05-31\n",
      "Name: data_fim, dtype: datetime64[ns]\n"
     ]
    }
   ],
   "source": [
    "print(df['data_inicio'].head(5))\n",
    "print(\"\\n========\\n\")\n",
    "print(df['data_fim'].head(5))"
   ]
  },
  {
   "cell_type": "code",
   "execution_count": 31,
   "id": "740fa676",
   "metadata": {},
   "outputs": [
    {
     "name": "stdout",
     "output_type": "stream",
     "text": [
      "Datas nulas antes: inicio=31, fim=260\n",
      "Datas nulas depois: inicio=31, fim=261\n",
      "Diferença: inicio=0, fim=1\n"
     ]
    }
   ],
   "source": [
    "print(f\"Datas nulas antes: inicio={data_nulos_antes[0]}, fim={data_nulos_antes[1]}\")\n",
    "print(f\"Datas nulas depois: inicio={data_nulos_depois[0]}, fim={data_nulos_depois[1]}\")\n",
    "print(f\"Diferença: inicio={data_nulos_depois[0] - data_nulos_antes[0]}, fim={data_nulos_depois[1] - data_nulos_antes[1]}\")"
   ]
  }
 ],
 "metadata": {
  "kernelspec": {
   "display_name": "ciencia-de-dados",
   "language": "python",
   "name": "python3"
  },
  "language_info": {
   "codemirror_mode": {
    "name": "ipython",
    "version": 3
   },
   "file_extension": ".py",
   "mimetype": "text/x-python",
   "name": "python",
   "nbconvert_exporter": "python",
   "pygments_lexer": "ipython3",
   "version": "3.13.3"
  }
 },
 "nbformat": 4,
 "nbformat_minor": 5
}
